{
 "cells": [
  {
   "cell_type": "code",
   "execution_count": 1,
   "id": "9dcb1576",
   "metadata": {
    "_cell_guid": "b1076dfc-b9ad-4769-8c92-a6c4dae69d19",
    "_uuid": "8f2839f25d086af736a60e9eeb907d3b93b6e0e5",
    "execution": {
     "iopub.execute_input": "2025-01-27T17:00:03.446284Z",
     "iopub.status.busy": "2025-01-27T17:00:03.445745Z",
     "iopub.status.idle": "2025-01-27T17:00:06.759440Z",
     "shell.execute_reply": "2025-01-27T17:00:06.758168Z"
    },
    "papermill": {
     "duration": 3.323541,
     "end_time": "2025-01-27T17:00:06.761567",
     "exception": false,
     "start_time": "2025-01-27T17:00:03.438026",
     "status": "completed"
    },
    "tags": []
   },
   "outputs": [
    {
     "name": "stdout",
     "output_type": "stream",
     "text": [
      "/kaggle/input/imdb-5000-movie-dataset/movie_metadata.csv\n"
     ]
    }
   ],
   "source": [
    "# This Python 3 environment comes with many helpful analytics libraries installed\n",
    "# It is defined by the kaggle/python Docker image: https://github.com/kaggle/docker-python\n",
    "# For example, here's several helpful packages to load\n",
    "\n",
    "import numpy as np # linear algebra\n",
    "import pandas as pd\n",
    "import matplotlib.pyplot as plt\n",
    "import seaborn as sns# data processing, CSV file I/O (e.g. pd.read_csv)\n",
    "\n",
    "# Input data files are available in the read-only \"../input/\" directory\n",
    "# For example, running this (by clicking run or pressing Shift+Enter) will list all files under the input directory\n",
    "\n",
    "import os\n",
    "for dirname, _, filenames in os.walk('/kaggle/input'):\n",
    "    for filename in filenames:\n",
    "        print(os.path.join(dirname, filename))\n",
    "\n",
    "# You can write up to 20GB to the current directory (/kaggle/working/) that gets preserved as output when you create a version using \"Save & Run All\" \n",
    "# You can also write temporary files to /kaggle/temp/, but they won't be saved outside of the current session"
   ]
  },
  {
   "cell_type": "markdown",
   "id": "c927eadf",
   "metadata": {
    "papermill": {
     "duration": 0.005486,
     "end_time": "2025-01-27T17:00:06.772336",
     "exception": false,
     "start_time": "2025-01-27T17:00:06.766850",
     "status": "completed"
    },
    "tags": []
   },
   "source": [
    "# EDA(ОБЗОР ДАТАСЕТА)"
   ]
  },
  {
   "cell_type": "code",
   "execution_count": 2,
   "id": "d3d60fed",
   "metadata": {
    "execution": {
     "iopub.execute_input": "2025-01-27T17:00:06.784501Z",
     "iopub.status.busy": "2025-01-27T17:00:06.783614Z",
     "iopub.status.idle": "2025-01-27T17:00:06.874515Z",
     "shell.execute_reply": "2025-01-27T17:00:06.872853Z"
    },
    "papermill": {
     "duration": 0.098706,
     "end_time": "2025-01-27T17:00:06.876541",
     "exception": false,
     "start_time": "2025-01-27T17:00:06.777835",
     "status": "completed"
    },
    "tags": []
   },
   "outputs": [],
   "source": [
    "df = pd.read_csv('/kaggle/input/imdb-5000-movie-dataset/movie_metadata.csv')"
   ]
  },
  {
   "cell_type": "code",
   "execution_count": 3,
   "id": "6c8e44d7",
   "metadata": {
    "execution": {
     "iopub.execute_input": "2025-01-27T17:00:06.887750Z",
     "iopub.status.busy": "2025-01-27T17:00:06.887178Z",
     "iopub.status.idle": "2025-01-27T17:00:06.947329Z",
     "shell.execute_reply": "2025-01-27T17:00:06.946053Z"
    },
    "papermill": {
     "duration": 0.067809,
     "end_time": "2025-01-27T17:00:06.949240",
     "exception": false,
     "start_time": "2025-01-27T17:00:06.881431",
     "status": "completed"
    },
    "tags": []
   },
   "outputs": [
    {
     "name": "stderr",
     "output_type": "stream",
     "text": [
      "/usr/local/lib/python3.10/dist-packages/pandas/io/formats/format.py:1458: RuntimeWarning: invalid value encountered in greater\n",
      "  has_large_values = (abs_vals > 1e6).any()\n",
      "/usr/local/lib/python3.10/dist-packages/pandas/io/formats/format.py:1459: RuntimeWarning: invalid value encountered in less\n",
      "  has_small_values = ((abs_vals < 10 ** (-self.digits)) & (abs_vals > 0)).any()\n",
      "/usr/local/lib/python3.10/dist-packages/pandas/io/formats/format.py:1459: RuntimeWarning: invalid value encountered in greater\n",
      "  has_small_values = ((abs_vals < 10 ** (-self.digits)) & (abs_vals > 0)).any()\n",
      "/usr/local/lib/python3.10/dist-packages/pandas/io/formats/format.py:1458: RuntimeWarning: invalid value encountered in greater\n",
      "  has_large_values = (abs_vals > 1e6).any()\n",
      "/usr/local/lib/python3.10/dist-packages/pandas/io/formats/format.py:1459: RuntimeWarning: invalid value encountered in less\n",
      "  has_small_values = ((abs_vals < 10 ** (-self.digits)) & (abs_vals > 0)).any()\n",
      "/usr/local/lib/python3.10/dist-packages/pandas/io/formats/format.py:1459: RuntimeWarning: invalid value encountered in greater\n",
      "  has_small_values = ((abs_vals < 10 ** (-self.digits)) & (abs_vals > 0)).any()\n"
     ]
    },
    {
     "data": {
      "text/html": [
       "<div>\n",
       "<style scoped>\n",
       "    .dataframe tbody tr th:only-of-type {\n",
       "        vertical-align: middle;\n",
       "    }\n",
       "\n",
       "    .dataframe tbody tr th {\n",
       "        vertical-align: top;\n",
       "    }\n",
       "\n",
       "    .dataframe thead th {\n",
       "        text-align: right;\n",
       "    }\n",
       "</style>\n",
       "<table border=\"1\" class=\"dataframe\">\n",
       "  <thead>\n",
       "    <tr style=\"text-align: right;\">\n",
       "      <th></th>\n",
       "      <th>color</th>\n",
       "      <th>director_name</th>\n",
       "      <th>num_critic_for_reviews</th>\n",
       "      <th>duration</th>\n",
       "      <th>director_facebook_likes</th>\n",
       "      <th>actor_3_facebook_likes</th>\n",
       "      <th>actor_2_name</th>\n",
       "      <th>actor_1_facebook_likes</th>\n",
       "      <th>gross</th>\n",
       "      <th>genres</th>\n",
       "      <th>...</th>\n",
       "      <th>num_user_for_reviews</th>\n",
       "      <th>language</th>\n",
       "      <th>country</th>\n",
       "      <th>content_rating</th>\n",
       "      <th>budget</th>\n",
       "      <th>title_year</th>\n",
       "      <th>actor_2_facebook_likes</th>\n",
       "      <th>imdb_score</th>\n",
       "      <th>aspect_ratio</th>\n",
       "      <th>movie_facebook_likes</th>\n",
       "    </tr>\n",
       "  </thead>\n",
       "  <tbody>\n",
       "    <tr>\n",
       "      <th>0</th>\n",
       "      <td>Color</td>\n",
       "      <td>James Cameron</td>\n",
       "      <td>723.0</td>\n",
       "      <td>178.0</td>\n",
       "      <td>0.0</td>\n",
       "      <td>855.0</td>\n",
       "      <td>Joel David Moore</td>\n",
       "      <td>1000.0</td>\n",
       "      <td>760505847.0</td>\n",
       "      <td>Action|Adventure|Fantasy|Sci-Fi</td>\n",
       "      <td>...</td>\n",
       "      <td>3054.0</td>\n",
       "      <td>English</td>\n",
       "      <td>USA</td>\n",
       "      <td>PG-13</td>\n",
       "      <td>237000000.0</td>\n",
       "      <td>2009.0</td>\n",
       "      <td>936.0</td>\n",
       "      <td>7.9</td>\n",
       "      <td>1.78</td>\n",
       "      <td>33000</td>\n",
       "    </tr>\n",
       "    <tr>\n",
       "      <th>1</th>\n",
       "      <td>Color</td>\n",
       "      <td>Gore Verbinski</td>\n",
       "      <td>302.0</td>\n",
       "      <td>169.0</td>\n",
       "      <td>563.0</td>\n",
       "      <td>1000.0</td>\n",
       "      <td>Orlando Bloom</td>\n",
       "      <td>40000.0</td>\n",
       "      <td>309404152.0</td>\n",
       "      <td>Action|Adventure|Fantasy</td>\n",
       "      <td>...</td>\n",
       "      <td>1238.0</td>\n",
       "      <td>English</td>\n",
       "      <td>USA</td>\n",
       "      <td>PG-13</td>\n",
       "      <td>300000000.0</td>\n",
       "      <td>2007.0</td>\n",
       "      <td>5000.0</td>\n",
       "      <td>7.1</td>\n",
       "      <td>2.35</td>\n",
       "      <td>0</td>\n",
       "    </tr>\n",
       "    <tr>\n",
       "      <th>2</th>\n",
       "      <td>Color</td>\n",
       "      <td>Sam Mendes</td>\n",
       "      <td>602.0</td>\n",
       "      <td>148.0</td>\n",
       "      <td>0.0</td>\n",
       "      <td>161.0</td>\n",
       "      <td>Rory Kinnear</td>\n",
       "      <td>11000.0</td>\n",
       "      <td>200074175.0</td>\n",
       "      <td>Action|Adventure|Thriller</td>\n",
       "      <td>...</td>\n",
       "      <td>994.0</td>\n",
       "      <td>English</td>\n",
       "      <td>UK</td>\n",
       "      <td>PG-13</td>\n",
       "      <td>245000000.0</td>\n",
       "      <td>2015.0</td>\n",
       "      <td>393.0</td>\n",
       "      <td>6.8</td>\n",
       "      <td>2.35</td>\n",
       "      <td>85000</td>\n",
       "    </tr>\n",
       "    <tr>\n",
       "      <th>3</th>\n",
       "      <td>Color</td>\n",
       "      <td>Christopher Nolan</td>\n",
       "      <td>813.0</td>\n",
       "      <td>164.0</td>\n",
       "      <td>22000.0</td>\n",
       "      <td>23000.0</td>\n",
       "      <td>Christian Bale</td>\n",
       "      <td>27000.0</td>\n",
       "      <td>448130642.0</td>\n",
       "      <td>Action|Thriller</td>\n",
       "      <td>...</td>\n",
       "      <td>2701.0</td>\n",
       "      <td>English</td>\n",
       "      <td>USA</td>\n",
       "      <td>PG-13</td>\n",
       "      <td>250000000.0</td>\n",
       "      <td>2012.0</td>\n",
       "      <td>23000.0</td>\n",
       "      <td>8.5</td>\n",
       "      <td>2.35</td>\n",
       "      <td>164000</td>\n",
       "    </tr>\n",
       "    <tr>\n",
       "      <th>4</th>\n",
       "      <td>NaN</td>\n",
       "      <td>Doug Walker</td>\n",
       "      <td>NaN</td>\n",
       "      <td>NaN</td>\n",
       "      <td>131.0</td>\n",
       "      <td>NaN</td>\n",
       "      <td>Rob Walker</td>\n",
       "      <td>131.0</td>\n",
       "      <td>NaN</td>\n",
       "      <td>Documentary</td>\n",
       "      <td>...</td>\n",
       "      <td>NaN</td>\n",
       "      <td>NaN</td>\n",
       "      <td>NaN</td>\n",
       "      <td>NaN</td>\n",
       "      <td>NaN</td>\n",
       "      <td>NaN</td>\n",
       "      <td>12.0</td>\n",
       "      <td>7.1</td>\n",
       "      <td>NaN</td>\n",
       "      <td>0</td>\n",
       "    </tr>\n",
       "  </tbody>\n",
       "</table>\n",
       "<p>5 rows × 28 columns</p>\n",
       "</div>"
      ],
      "text/plain": [
       "   color      director_name  num_critic_for_reviews  duration  \\\n",
       "0  Color      James Cameron                   723.0     178.0   \n",
       "1  Color     Gore Verbinski                   302.0     169.0   \n",
       "2  Color         Sam Mendes                   602.0     148.0   \n",
       "3  Color  Christopher Nolan                   813.0     164.0   \n",
       "4    NaN        Doug Walker                     NaN       NaN   \n",
       "\n",
       "   director_facebook_likes  actor_3_facebook_likes      actor_2_name  \\\n",
       "0                      0.0                   855.0  Joel David Moore   \n",
       "1                    563.0                  1000.0     Orlando Bloom   \n",
       "2                      0.0                   161.0      Rory Kinnear   \n",
       "3                  22000.0                 23000.0    Christian Bale   \n",
       "4                    131.0                     NaN        Rob Walker   \n",
       "\n",
       "   actor_1_facebook_likes        gross                           genres  ...  \\\n",
       "0                  1000.0  760505847.0  Action|Adventure|Fantasy|Sci-Fi  ...   \n",
       "1                 40000.0  309404152.0         Action|Adventure|Fantasy  ...   \n",
       "2                 11000.0  200074175.0        Action|Adventure|Thriller  ...   \n",
       "3                 27000.0  448130642.0                  Action|Thriller  ...   \n",
       "4                   131.0          NaN                      Documentary  ...   \n",
       "\n",
       "  num_user_for_reviews language  country  content_rating       budget  \\\n",
       "0               3054.0  English      USA           PG-13  237000000.0   \n",
       "1               1238.0  English      USA           PG-13  300000000.0   \n",
       "2                994.0  English       UK           PG-13  245000000.0   \n",
       "3               2701.0  English      USA           PG-13  250000000.0   \n",
       "4                  NaN      NaN      NaN             NaN          NaN   \n",
       "\n",
       "   title_year actor_2_facebook_likes imdb_score  aspect_ratio  \\\n",
       "0      2009.0                  936.0        7.9          1.78   \n",
       "1      2007.0                 5000.0        7.1          2.35   \n",
       "2      2015.0                  393.0        6.8          2.35   \n",
       "3      2012.0                23000.0        8.5          2.35   \n",
       "4         NaN                   12.0        7.1           NaN   \n",
       "\n",
       "  movie_facebook_likes  \n",
       "0                33000  \n",
       "1                    0  \n",
       "2                85000  \n",
       "3               164000  \n",
       "4                    0  \n",
       "\n",
       "[5 rows x 28 columns]"
      ]
     },
     "execution_count": 3,
     "metadata": {},
     "output_type": "execute_result"
    }
   ],
   "source": [
    "df.head()"
   ]
  },
  {
   "cell_type": "code",
   "execution_count": 4,
   "id": "d79dbfbe",
   "metadata": {
    "execution": {
     "iopub.execute_input": "2025-01-27T17:00:06.961590Z",
     "iopub.status.busy": "2025-01-27T17:00:06.961189Z",
     "iopub.status.idle": "2025-01-27T17:00:06.991039Z",
     "shell.execute_reply": "2025-01-27T17:00:06.989136Z"
    },
    "papermill": {
     "duration": 0.038116,
     "end_time": "2025-01-27T17:00:06.992982",
     "exception": false,
     "start_time": "2025-01-27T17:00:06.954866",
     "status": "completed"
    },
    "tags": []
   },
   "outputs": [
    {
     "name": "stdout",
     "output_type": "stream",
     "text": [
      "<class 'pandas.core.frame.DataFrame'>\n",
      "RangeIndex: 5043 entries, 0 to 5042\n",
      "Data columns (total 28 columns):\n",
      " #   Column                     Non-Null Count  Dtype  \n",
      "---  ------                     --------------  -----  \n",
      " 0   color                      5024 non-null   object \n",
      " 1   director_name              4939 non-null   object \n",
      " 2   num_critic_for_reviews     4993 non-null   float64\n",
      " 3   duration                   5028 non-null   float64\n",
      " 4   director_facebook_likes    4939 non-null   float64\n",
      " 5   actor_3_facebook_likes     5020 non-null   float64\n",
      " 6   actor_2_name               5030 non-null   object \n",
      " 7   actor_1_facebook_likes     5036 non-null   float64\n",
      " 8   gross                      4159 non-null   float64\n",
      " 9   genres                     5043 non-null   object \n",
      " 10  actor_1_name               5036 non-null   object \n",
      " 11  movie_title                5043 non-null   object \n",
      " 12  num_voted_users            5043 non-null   int64  \n",
      " 13  cast_total_facebook_likes  5043 non-null   int64  \n",
      " 14  actor_3_name               5020 non-null   object \n",
      " 15  facenumber_in_poster       5030 non-null   float64\n",
      " 16  plot_keywords              4890 non-null   object \n",
      " 17  movie_imdb_link            5043 non-null   object \n",
      " 18  num_user_for_reviews       5022 non-null   float64\n",
      " 19  language                   5029 non-null   object \n",
      " 20  country                    5038 non-null   object \n",
      " 21  content_rating             4740 non-null   object \n",
      " 22  budget                     4551 non-null   float64\n",
      " 23  title_year                 4935 non-null   float64\n",
      " 24  actor_2_facebook_likes     5030 non-null   float64\n",
      " 25  imdb_score                 5043 non-null   float64\n",
      " 26  aspect_ratio               4714 non-null   float64\n",
      " 27  movie_facebook_likes       5043 non-null   int64  \n",
      "dtypes: float64(13), int64(3), object(12)\n",
      "memory usage: 1.1+ MB\n"
     ]
    }
   ],
   "source": [
    "df.info()"
   ]
  },
  {
   "cell_type": "code",
   "execution_count": 5,
   "id": "8d2d7672",
   "metadata": {
    "execution": {
     "iopub.execute_input": "2025-01-27T17:00:07.005764Z",
     "iopub.status.busy": "2025-01-27T17:00:07.005331Z",
     "iopub.status.idle": "2025-01-27T17:00:07.018494Z",
     "shell.execute_reply": "2025-01-27T17:00:07.016500Z"
    },
    "papermill": {
     "duration": 0.022133,
     "end_time": "2025-01-27T17:00:07.021079",
     "exception": false,
     "start_time": "2025-01-27T17:00:06.998946",
     "status": "completed"
    },
    "tags": []
   },
   "outputs": [
    {
     "data": {
      "text/plain": [
       "color                         19\n",
       "director_name                104\n",
       "num_critic_for_reviews        50\n",
       "duration                      15\n",
       "director_facebook_likes      104\n",
       "actor_3_facebook_likes        23\n",
       "actor_2_name                  13\n",
       "actor_1_facebook_likes         7\n",
       "gross                        884\n",
       "genres                         0\n",
       "actor_1_name                   7\n",
       "movie_title                    0\n",
       "num_voted_users                0\n",
       "cast_total_facebook_likes      0\n",
       "actor_3_name                  23\n",
       "facenumber_in_poster          13\n",
       "plot_keywords                153\n",
       "movie_imdb_link                0\n",
       "num_user_for_reviews          21\n",
       "language                      14\n",
       "country                        5\n",
       "content_rating               303\n",
       "budget                       492\n",
       "title_year                   108\n",
       "actor_2_facebook_likes        13\n",
       "imdb_score                     0\n",
       "aspect_ratio                 329\n",
       "movie_facebook_likes           0\n",
       "dtype: int64"
      ]
     },
     "execution_count": 5,
     "metadata": {},
     "output_type": "execute_result"
    }
   ],
   "source": [
    "# Количество пропусков в каждом столбце\n",
    "df.isna().sum()"
   ]
  },
  {
   "cell_type": "markdown",
   "id": "1dc21bbe",
   "metadata": {
    "papermill": {
     "duration": 0.005435,
     "end_time": "2025-01-27T17:00:07.031952",
     "exception": false,
     "start_time": "2025-01-27T17:00:07.026517",
     "status": "completed"
    },
    "tags": []
   },
   "source": [
    "# Работа с данными"
   ]
  },
  {
   "cell_type": "markdown",
   "id": "7aa367d5",
   "metadata": {
    "papermill": {
     "duration": 0.005242,
     "end_time": "2025-01-27T17:00:07.043172",
     "exception": false,
     "start_time": "2025-01-27T17:00:07.037930",
     "status": "completed"
    },
    "tags": []
   },
   "source": [
    "* Удаление столбцов"
   ]
  },
  {
   "cell_type": "code",
   "execution_count": 6,
   "id": "8bc03cf2",
   "metadata": {
    "execution": {
     "iopub.execute_input": "2025-01-27T17:00:07.056931Z",
     "iopub.status.busy": "2025-01-27T17:00:07.056532Z",
     "iopub.status.idle": "2025-01-27T17:00:07.063523Z",
     "shell.execute_reply": "2025-01-27T17:00:07.062094Z"
    },
    "papermill": {
     "duration": 0.016161,
     "end_time": "2025-01-27T17:00:07.065622",
     "exception": false,
     "start_time": "2025-01-27T17:00:07.049461",
     "status": "completed"
    },
    "tags": []
   },
   "outputs": [],
   "source": [
    "df = df.drop(columns=[\n",
    "    'color', 'director_facebook_likes', 'actor_1_facebook_likes',\n",
    "    'actor_2_facebook_likes', 'actor_3_facebook_likes',\n",
    "    'cast_total_facebook_likes', 'movie_facebook_likes',\n",
    "    'movie_title', 'movie_imdb_link','facenumber_in_poster'\n",
    "])"
   ]
  },
  {
   "cell_type": "markdown",
   "id": "22e37dfe",
   "metadata": {
    "papermill": {
     "duration": 0.005632,
     "end_time": "2025-01-27T17:00:07.076834",
     "exception": false,
     "start_time": "2025-01-27T17:00:07.071202",
     "status": "completed"
    },
    "tags": []
   },
   "source": [
    "* *Удаление строк с пропуском больше двух NAN значений и подсчет потери данных*"
   ]
  },
  {
   "cell_type": "code",
   "execution_count": 7,
   "id": "36057236",
   "metadata": {
    "execution": {
     "iopub.execute_input": "2025-01-27T17:00:07.089483Z",
     "iopub.status.busy": "2025-01-27T17:00:07.089057Z",
     "iopub.status.idle": "2025-01-27T17:00:08.129460Z",
     "shell.execute_reply": "2025-01-27T17:00:08.128019Z"
    },
    "papermill": {
     "duration": 1.049047,
     "end_time": "2025-01-27T17:00:08.131515",
     "exception": false,
     "start_time": "2025-01-27T17:00:07.082468",
     "status": "completed"
    },
    "tags": []
   },
   "outputs": [
    {
     "name": "stdout",
     "output_type": "stream",
     "text": [
      "Количество строк до удаления: 5043\n",
      "Количество строк после удаления: 4730\n",
      "Удалено строк: 313\n"
     ]
    }
   ],
   "source": [
    "initial_rows = df.shape[0]  \n",
    "print(f\"Количество строк до удаления: {initial_rows}\")\n",
    "\n",
    "for index, row in df.iterrows():\n",
    "    if row.isna().sum() > 2:\n",
    "        df.drop(index, inplace=True)\n",
    "\n",
    "final_rows = df.shape[0]  \n",
    "print(f\"Количество строк после удаления: {final_rows}\")\n",
    "print(f\"Удалено строк: {initial_rows - final_rows}\")"
   ]
  },
  {
   "cell_type": "markdown",
   "id": "372ba7b4",
   "metadata": {
    "papermill": {
     "duration": 0.005359,
     "end_time": "2025-01-27T17:00:08.142791",
     "exception": false,
     "start_time": "2025-01-27T17:00:08.137432",
     "status": "completed"
    },
    "tags": []
   },
   "source": [
    "*Frequency Encoding,количество появления режисера*"
   ]
  },
  {
   "cell_type": "code",
   "execution_count": 8,
   "id": "8d8a20e6",
   "metadata": {
    "execution": {
     "iopub.execute_input": "2025-01-27T17:00:08.156202Z",
     "iopub.status.busy": "2025-01-27T17:00:08.155761Z",
     "iopub.status.idle": "2025-01-27T17:00:08.167141Z",
     "shell.execute_reply": "2025-01-27T17:00:08.166101Z"
    },
    "papermill": {
     "duration": 0.020134,
     "end_time": "2025-01-27T17:00:08.169084",
     "exception": false,
     "start_time": "2025-01-27T17:00:08.148950",
     "status": "completed"
    },
    "tags": []
   },
   "outputs": [],
   "source": [
    "director_counts = df['director_name'].value_counts()\n",
    "df['director_freq'] = df['director_name'].map(director_counts)\n",
    "df.drop(columns=['director_name'], inplace=True)"
   ]
  },
  {
   "cell_type": "code",
   "execution_count": 9,
   "id": "078439fe",
   "metadata": {
    "execution": {
     "iopub.execute_input": "2025-01-27T17:00:08.182815Z",
     "iopub.status.busy": "2025-01-27T17:00:08.182369Z",
     "iopub.status.idle": "2025-01-27T17:00:08.204478Z",
     "shell.execute_reply": "2025-01-27T17:00:08.203248Z"
    },
    "papermill": {
     "duration": 0.031021,
     "end_time": "2025-01-27T17:00:08.206371",
     "exception": false,
     "start_time": "2025-01-27T17:00:08.175350",
     "status": "completed"
    },
    "tags": []
   },
   "outputs": [
    {
     "data": {
      "text/html": [
       "<div>\n",
       "<style scoped>\n",
       "    .dataframe tbody tr th:only-of-type {\n",
       "        vertical-align: middle;\n",
       "    }\n",
       "\n",
       "    .dataframe tbody tr th {\n",
       "        vertical-align: top;\n",
       "    }\n",
       "\n",
       "    .dataframe thead th {\n",
       "        text-align: right;\n",
       "    }\n",
       "</style>\n",
       "<table border=\"1\" class=\"dataframe\">\n",
       "  <thead>\n",
       "    <tr style=\"text-align: right;\">\n",
       "      <th></th>\n",
       "      <th>num_critic_for_reviews</th>\n",
       "      <th>duration</th>\n",
       "      <th>actor_2_name</th>\n",
       "      <th>gross</th>\n",
       "      <th>genres</th>\n",
       "      <th>actor_1_name</th>\n",
       "      <th>num_voted_users</th>\n",
       "      <th>actor_3_name</th>\n",
       "      <th>plot_keywords</th>\n",
       "      <th>num_user_for_reviews</th>\n",
       "      <th>language</th>\n",
       "      <th>country</th>\n",
       "      <th>content_rating</th>\n",
       "      <th>budget</th>\n",
       "      <th>title_year</th>\n",
       "      <th>imdb_score</th>\n",
       "      <th>aspect_ratio</th>\n",
       "      <th>director_freq</th>\n",
       "    </tr>\n",
       "  </thead>\n",
       "  <tbody>\n",
       "    <tr>\n",
       "      <th>0</th>\n",
       "      <td>723.0</td>\n",
       "      <td>178.0</td>\n",
       "      <td>Joel David Moore</td>\n",
       "      <td>760505847.0</td>\n",
       "      <td>Action|Adventure|Fantasy|Sci-Fi</td>\n",
       "      <td>CCH Pounder</td>\n",
       "      <td>886204</td>\n",
       "      <td>Wes Studi</td>\n",
       "      <td>avatar|future|marine|native|paraplegic</td>\n",
       "      <td>3054.0</td>\n",
       "      <td>English</td>\n",
       "      <td>USA</td>\n",
       "      <td>PG-13</td>\n",
       "      <td>237000000.0</td>\n",
       "      <td>2009.0</td>\n",
       "      <td>7.9</td>\n",
       "      <td>1.78</td>\n",
       "      <td>7</td>\n",
       "    </tr>\n",
       "    <tr>\n",
       "      <th>1</th>\n",
       "      <td>302.0</td>\n",
       "      <td>169.0</td>\n",
       "      <td>Orlando Bloom</td>\n",
       "      <td>309404152.0</td>\n",
       "      <td>Action|Adventure|Fantasy</td>\n",
       "      <td>Johnny Depp</td>\n",
       "      <td>471220</td>\n",
       "      <td>Jack Davenport</td>\n",
       "      <td>goddess|marriage ceremony|marriage proposal|pi...</td>\n",
       "      <td>1238.0</td>\n",
       "      <td>English</td>\n",
       "      <td>USA</td>\n",
       "      <td>PG-13</td>\n",
       "      <td>300000000.0</td>\n",
       "      <td>2007.0</td>\n",
       "      <td>7.1</td>\n",
       "      <td>2.35</td>\n",
       "      <td>7</td>\n",
       "    </tr>\n",
       "    <tr>\n",
       "      <th>2</th>\n",
       "      <td>602.0</td>\n",
       "      <td>148.0</td>\n",
       "      <td>Rory Kinnear</td>\n",
       "      <td>200074175.0</td>\n",
       "      <td>Action|Adventure|Thriller</td>\n",
       "      <td>Christoph Waltz</td>\n",
       "      <td>275868</td>\n",
       "      <td>Stephanie Sigman</td>\n",
       "      <td>bomb|espionage|sequel|spy|terrorist</td>\n",
       "      <td>994.0</td>\n",
       "      <td>English</td>\n",
       "      <td>UK</td>\n",
       "      <td>PG-13</td>\n",
       "      <td>245000000.0</td>\n",
       "      <td>2015.0</td>\n",
       "      <td>6.8</td>\n",
       "      <td>2.35</td>\n",
       "      <td>8</td>\n",
       "    </tr>\n",
       "    <tr>\n",
       "      <th>3</th>\n",
       "      <td>813.0</td>\n",
       "      <td>164.0</td>\n",
       "      <td>Christian Bale</td>\n",
       "      <td>448130642.0</td>\n",
       "      <td>Action|Thriller</td>\n",
       "      <td>Tom Hardy</td>\n",
       "      <td>1144337</td>\n",
       "      <td>Joseph Gordon-Levitt</td>\n",
       "      <td>deception|imprisonment|lawlessness|police offi...</td>\n",
       "      <td>2701.0</td>\n",
       "      <td>English</td>\n",
       "      <td>USA</td>\n",
       "      <td>PG-13</td>\n",
       "      <td>250000000.0</td>\n",
       "      <td>2012.0</td>\n",
       "      <td>8.5</td>\n",
       "      <td>2.35</td>\n",
       "      <td>8</td>\n",
       "    </tr>\n",
       "    <tr>\n",
       "      <th>5</th>\n",
       "      <td>462.0</td>\n",
       "      <td>132.0</td>\n",
       "      <td>Samantha Morton</td>\n",
       "      <td>73058679.0</td>\n",
       "      <td>Action|Adventure|Sci-Fi</td>\n",
       "      <td>Daryl Sabara</td>\n",
       "      <td>212204</td>\n",
       "      <td>Polly Walker</td>\n",
       "      <td>alien|american civil war|male nipple|mars|prin...</td>\n",
       "      <td>738.0</td>\n",
       "      <td>English</td>\n",
       "      <td>USA</td>\n",
       "      <td>PG-13</td>\n",
       "      <td>263700000.0</td>\n",
       "      <td>2012.0</td>\n",
       "      <td>6.6</td>\n",
       "      <td>2.35</td>\n",
       "      <td>3</td>\n",
       "    </tr>\n",
       "  </tbody>\n",
       "</table>\n",
       "</div>"
      ],
      "text/plain": [
       "   num_critic_for_reviews  duration      actor_2_name        gross  \\\n",
       "0                   723.0     178.0  Joel David Moore  760505847.0   \n",
       "1                   302.0     169.0     Orlando Bloom  309404152.0   \n",
       "2                   602.0     148.0      Rory Kinnear  200074175.0   \n",
       "3                   813.0     164.0    Christian Bale  448130642.0   \n",
       "5                   462.0     132.0   Samantha Morton   73058679.0   \n",
       "\n",
       "                            genres     actor_1_name  num_voted_users  \\\n",
       "0  Action|Adventure|Fantasy|Sci-Fi      CCH Pounder           886204   \n",
       "1         Action|Adventure|Fantasy      Johnny Depp           471220   \n",
       "2        Action|Adventure|Thriller  Christoph Waltz           275868   \n",
       "3                  Action|Thriller        Tom Hardy          1144337   \n",
       "5          Action|Adventure|Sci-Fi     Daryl Sabara           212204   \n",
       "\n",
       "           actor_3_name                                      plot_keywords  \\\n",
       "0             Wes Studi             avatar|future|marine|native|paraplegic   \n",
       "1        Jack Davenport  goddess|marriage ceremony|marriage proposal|pi...   \n",
       "2      Stephanie Sigman                bomb|espionage|sequel|spy|terrorist   \n",
       "3  Joseph Gordon-Levitt  deception|imprisonment|lawlessness|police offi...   \n",
       "5          Polly Walker  alien|american civil war|male nipple|mars|prin...   \n",
       "\n",
       "   num_user_for_reviews language country content_rating       budget  \\\n",
       "0                3054.0  English     USA          PG-13  237000000.0   \n",
       "1                1238.0  English     USA          PG-13  300000000.0   \n",
       "2                 994.0  English      UK          PG-13  245000000.0   \n",
       "3                2701.0  English     USA          PG-13  250000000.0   \n",
       "5                 738.0  English     USA          PG-13  263700000.0   \n",
       "\n",
       "   title_year  imdb_score  aspect_ratio  director_freq  \n",
       "0      2009.0         7.9          1.78              7  \n",
       "1      2007.0         7.1          2.35              7  \n",
       "2      2015.0         6.8          2.35              8  \n",
       "3      2012.0         8.5          2.35              8  \n",
       "5      2012.0         6.6          2.35              3  "
      ]
     },
     "execution_count": 9,
     "metadata": {},
     "output_type": "execute_result"
    }
   ],
   "source": [
    "df.head()"
   ]
  },
  {
   "cell_type": "markdown",
   "id": "ee86f142",
   "metadata": {
    "papermill": {
     "duration": 0.005211,
     "end_time": "2025-01-27T17:00:08.217245",
     "exception": false,
     "start_time": "2025-01-27T17:00:08.212034",
     "status": "completed"
    },
    "tags": []
   },
   "source": [
    "# Обработка данных"
   ]
  },
  {
   "cell_type": "code",
   "execution_count": 10,
   "id": "6ed644a5",
   "metadata": {
    "execution": {
     "iopub.execute_input": "2025-01-27T17:00:08.229453Z",
     "iopub.status.busy": "2025-01-27T17:00:08.229048Z",
     "iopub.status.idle": "2025-01-27T17:00:08.298712Z",
     "shell.execute_reply": "2025-01-27T17:00:08.297523Z"
    },
    "papermill": {
     "duration": 0.078078,
     "end_time": "2025-01-27T17:00:08.300669",
     "exception": false,
     "start_time": "2025-01-27T17:00:08.222591",
     "status": "completed"
    },
    "tags": []
   },
   "outputs": [
    {
     "name": "stderr",
     "output_type": "stream",
     "text": [
      "/usr/local/lib/python3.10/dist-packages/pandas/io/formats/format.py:1458: RuntimeWarning: invalid value encountered in greater\n",
      "  has_large_values = (abs_vals > 1e6).any()\n",
      "/usr/local/lib/python3.10/dist-packages/pandas/io/formats/format.py:1459: RuntimeWarning: invalid value encountered in less\n",
      "  has_small_values = ((abs_vals < 10 ** (-self.digits)) & (abs_vals > 0)).any()\n",
      "/usr/local/lib/python3.10/dist-packages/pandas/io/formats/format.py:1459: RuntimeWarning: invalid value encountered in greater\n",
      "  has_small_values = ((abs_vals < 10 ** (-self.digits)) & (abs_vals > 0)).any()\n"
     ]
    },
    {
     "data": {
      "text/html": [
       "<div>\n",
       "<style scoped>\n",
       "    .dataframe tbody tr th:only-of-type {\n",
       "        vertical-align: middle;\n",
       "    }\n",
       "\n",
       "    .dataframe tbody tr th {\n",
       "        vertical-align: top;\n",
       "    }\n",
       "\n",
       "    .dataframe thead th {\n",
       "        text-align: right;\n",
       "    }\n",
       "</style>\n",
       "<table border=\"1\" class=\"dataframe\">\n",
       "  <thead>\n",
       "    <tr style=\"text-align: right;\">\n",
       "      <th></th>\n",
       "      <th>num_critic_for_reviews</th>\n",
       "      <th>duration</th>\n",
       "      <th>actor_2_name</th>\n",
       "      <th>gross</th>\n",
       "      <th>genres</th>\n",
       "      <th>actor_1_name</th>\n",
       "      <th>num_voted_users</th>\n",
       "      <th>actor_3_name</th>\n",
       "      <th>plot_keywords</th>\n",
       "      <th>num_user_for_reviews</th>\n",
       "      <th>language</th>\n",
       "      <th>country</th>\n",
       "      <th>content_rating</th>\n",
       "      <th>budget</th>\n",
       "      <th>title_year</th>\n",
       "      <th>imdb_score</th>\n",
       "      <th>aspect_ratio</th>\n",
       "      <th>director_freq</th>\n",
       "    </tr>\n",
       "  </thead>\n",
       "  <tbody>\n",
       "    <tr>\n",
       "      <th>count</th>\n",
       "      <td>4726.000000</td>\n",
       "      <td>4729.000000</td>\n",
       "      <td>4729</td>\n",
       "      <td>4.136000e+03</td>\n",
       "      <td>4730</td>\n",
       "      <td>4730</td>\n",
       "      <td>4.730000e+03</td>\n",
       "      <td>4723</td>\n",
       "      <td>4683</td>\n",
       "      <td>4730.000000</td>\n",
       "      <td>4722</td>\n",
       "      <td>4730</td>\n",
       "      <td>4618</td>\n",
       "      <td>4.421000e+03</td>\n",
       "      <td>4730.000000</td>\n",
       "      <td>4730.000000</td>\n",
       "      <td>4575.000000</td>\n",
       "      <td>4730.000000</td>\n",
       "    </tr>\n",
       "    <tr>\n",
       "      <th>unique</th>\n",
       "      <td>NaN</td>\n",
       "      <td>NaN</td>\n",
       "      <td>2808</td>\n",
       "      <td>NaN</td>\n",
       "      <td>876</td>\n",
       "      <td>1915</td>\n",
       "      <td>NaN</td>\n",
       "      <td>3290</td>\n",
       "      <td>4562</td>\n",
       "      <td>NaN</td>\n",
       "      <td>39</td>\n",
       "      <td>57</td>\n",
       "      <td>15</td>\n",
       "      <td>NaN</td>\n",
       "      <td>NaN</td>\n",
       "      <td>NaN</td>\n",
       "      <td>NaN</td>\n",
       "      <td>NaN</td>\n",
       "    </tr>\n",
       "    <tr>\n",
       "      <th>top</th>\n",
       "      <td>NaN</td>\n",
       "      <td>NaN</td>\n",
       "      <td>Morgan Freeman</td>\n",
       "      <td>NaN</td>\n",
       "      <td>Drama</td>\n",
       "      <td>Robert De Niro</td>\n",
       "      <td>NaN</td>\n",
       "      <td>Steve Coogan</td>\n",
       "      <td>assistant|experiment|frankenstein|medical stud...</td>\n",
       "      <td>NaN</td>\n",
       "      <td>English</td>\n",
       "      <td>USA</td>\n",
       "      <td>R</td>\n",
       "      <td>NaN</td>\n",
       "      <td>NaN</td>\n",
       "      <td>NaN</td>\n",
       "      <td>NaN</td>\n",
       "      <td>NaN</td>\n",
       "    </tr>\n",
       "    <tr>\n",
       "      <th>freq</th>\n",
       "      <td>NaN</td>\n",
       "      <td>NaN</td>\n",
       "      <td>20</td>\n",
       "      <td>NaN</td>\n",
       "      <td>214</td>\n",
       "      <td>48</td>\n",
       "      <td>NaN</td>\n",
       "      <td>8</td>\n",
       "      <td>3</td>\n",
       "      <td>NaN</td>\n",
       "      <td>4444</td>\n",
       "      <td>3606</td>\n",
       "      <td>2102</td>\n",
       "      <td>NaN</td>\n",
       "      <td>NaN</td>\n",
       "      <td>NaN</td>\n",
       "      <td>NaN</td>\n",
       "      <td>NaN</td>\n",
       "    </tr>\n",
       "    <tr>\n",
       "      <th>mean</th>\n",
       "      <td>147.152983</td>\n",
       "      <td>108.684500</td>\n",
       "      <td>NaN</td>\n",
       "      <td>4.873686e+07</td>\n",
       "      <td>NaN</td>\n",
       "      <td>NaN</td>\n",
       "      <td>8.849411e+04</td>\n",
       "      <td>NaN</td>\n",
       "      <td>NaN</td>\n",
       "      <td>287.216913</td>\n",
       "      <td>NaN</td>\n",
       "      <td>NaN</td>\n",
       "      <td>NaN</td>\n",
       "      <td>4.076216e+07</td>\n",
       "      <td>2002.104651</td>\n",
       "      <td>6.434123</td>\n",
       "      <td>2.115497</td>\n",
       "      <td>4.429175</td>\n",
       "    </tr>\n",
       "    <tr>\n",
       "      <th>std</th>\n",
       "      <td>121.220815</td>\n",
       "      <td>22.451966</td>\n",
       "      <td>NaN</td>\n",
       "      <td>6.854809e+07</td>\n",
       "      <td>NaN</td>\n",
       "      <td>NaN</td>\n",
       "      <td>1.414777e+05</td>\n",
       "      <td>NaN</td>\n",
       "      <td>NaN</td>\n",
       "      <td>384.402480</td>\n",
       "      <td>NaN</td>\n",
       "      <td>NaN</td>\n",
       "      <td>NaN</td>\n",
       "      <td>2.090214e+08</td>\n",
       "      <td>12.511844</td>\n",
       "      <td>1.097783</td>\n",
       "      <td>0.646110</td>\n",
       "      <td>4.257288</td>\n",
       "    </tr>\n",
       "    <tr>\n",
       "      <th>min</th>\n",
       "      <td>1.000000</td>\n",
       "      <td>20.000000</td>\n",
       "      <td>NaN</td>\n",
       "      <td>1.620000e+02</td>\n",
       "      <td>NaN</td>\n",
       "      <td>NaN</td>\n",
       "      <td>5.000000e+00</td>\n",
       "      <td>NaN</td>\n",
       "      <td>NaN</td>\n",
       "      <td>1.000000</td>\n",
       "      <td>NaN</td>\n",
       "      <td>NaN</td>\n",
       "      <td>NaN</td>\n",
       "      <td>2.180000e+02</td>\n",
       "      <td>1916.000000</td>\n",
       "      <td>1.600000</td>\n",
       "      <td>1.180000</td>\n",
       "      <td>1.000000</td>\n",
       "    </tr>\n",
       "    <tr>\n",
       "      <th>25%</th>\n",
       "      <td>59.000000</td>\n",
       "      <td>94.000000</td>\n",
       "      <td>NaN</td>\n",
       "      <td>5.539594e+06</td>\n",
       "      <td>NaN</td>\n",
       "      <td>NaN</td>\n",
       "      <td>1.113600e+04</td>\n",
       "      <td>NaN</td>\n",
       "      <td>NaN</td>\n",
       "      <td>76.000000</td>\n",
       "      <td>NaN</td>\n",
       "      <td>NaN</td>\n",
       "      <td>NaN</td>\n",
       "      <td>7.000000e+06</td>\n",
       "      <td>1999.000000</td>\n",
       "      <td>5.800000</td>\n",
       "      <td>1.850000</td>\n",
       "      <td>1.000000</td>\n",
       "    </tr>\n",
       "    <tr>\n",
       "      <th>50%</th>\n",
       "      <td>118.000000</td>\n",
       "      <td>104.000000</td>\n",
       "      <td>NaN</td>\n",
       "      <td>2.567678e+07</td>\n",
       "      <td>NaN</td>\n",
       "      <td>NaN</td>\n",
       "      <td>3.850800e+04</td>\n",
       "      <td>NaN</td>\n",
       "      <td>NaN</td>\n",
       "      <td>169.000000</td>\n",
       "      <td>NaN</td>\n",
       "      <td>NaN</td>\n",
       "      <td>NaN</td>\n",
       "      <td>2.000000e+07</td>\n",
       "      <td>2005.000000</td>\n",
       "      <td>6.600000</td>\n",
       "      <td>2.350000</td>\n",
       "      <td>3.000000</td>\n",
       "    </tr>\n",
       "    <tr>\n",
       "      <th>75%</th>\n",
       "      <td>202.000000</td>\n",
       "      <td>118.000000</td>\n",
       "      <td>NaN</td>\n",
       "      <td>6.255264e+07</td>\n",
       "      <td>NaN</td>\n",
       "      <td>NaN</td>\n",
       "      <td>1.026305e+05</td>\n",
       "      <td>NaN</td>\n",
       "      <td>NaN</td>\n",
       "      <td>342.750000</td>\n",
       "      <td>NaN</td>\n",
       "      <td>NaN</td>\n",
       "      <td>NaN</td>\n",
       "      <td>4.500000e+07</td>\n",
       "      <td>2010.000000</td>\n",
       "      <td>7.200000</td>\n",
       "      <td>2.350000</td>\n",
       "      <td>6.000000</td>\n",
       "    </tr>\n",
       "    <tr>\n",
       "      <th>max</th>\n",
       "      <td>813.000000</td>\n",
       "      <td>330.000000</td>\n",
       "      <td>NaN</td>\n",
       "      <td>7.605058e+08</td>\n",
       "      <td>NaN</td>\n",
       "      <td>NaN</td>\n",
       "      <td>1.689764e+06</td>\n",
       "      <td>NaN</td>\n",
       "      <td>NaN</td>\n",
       "      <td>5060.000000</td>\n",
       "      <td>NaN</td>\n",
       "      <td>NaN</td>\n",
       "      <td>NaN</td>\n",
       "      <td>1.221550e+10</td>\n",
       "      <td>2016.000000</td>\n",
       "      <td>9.300000</td>\n",
       "      <td>16.000000</td>\n",
       "      <td>26.000000</td>\n",
       "    </tr>\n",
       "  </tbody>\n",
       "</table>\n",
       "</div>"
      ],
      "text/plain": [
       "        num_critic_for_reviews     duration    actor_2_name         gross  \\\n",
       "count              4726.000000  4729.000000            4729  4.136000e+03   \n",
       "unique                     NaN          NaN            2808           NaN   \n",
       "top                        NaN          NaN  Morgan Freeman           NaN   \n",
       "freq                       NaN          NaN              20           NaN   \n",
       "mean                147.152983   108.684500             NaN  4.873686e+07   \n",
       "std                 121.220815    22.451966             NaN  6.854809e+07   \n",
       "min                   1.000000    20.000000             NaN  1.620000e+02   \n",
       "25%                  59.000000    94.000000             NaN  5.539594e+06   \n",
       "50%                 118.000000   104.000000             NaN  2.567678e+07   \n",
       "75%                 202.000000   118.000000             NaN  6.255264e+07   \n",
       "max                 813.000000   330.000000             NaN  7.605058e+08   \n",
       "\n",
       "       genres    actor_1_name  num_voted_users  actor_3_name  \\\n",
       "count    4730            4730     4.730000e+03          4723   \n",
       "unique    876            1915              NaN          3290   \n",
       "top     Drama  Robert De Niro              NaN  Steve Coogan   \n",
       "freq      214              48              NaN             8   \n",
       "mean      NaN             NaN     8.849411e+04           NaN   \n",
       "std       NaN             NaN     1.414777e+05           NaN   \n",
       "min       NaN             NaN     5.000000e+00           NaN   \n",
       "25%       NaN             NaN     1.113600e+04           NaN   \n",
       "50%       NaN             NaN     3.850800e+04           NaN   \n",
       "75%       NaN             NaN     1.026305e+05           NaN   \n",
       "max       NaN             NaN     1.689764e+06           NaN   \n",
       "\n",
       "                                            plot_keywords  \\\n",
       "count                                                4683   \n",
       "unique                                               4562   \n",
       "top     assistant|experiment|frankenstein|medical stud...   \n",
       "freq                                                    3   \n",
       "mean                                                  NaN   \n",
       "std                                                   NaN   \n",
       "min                                                   NaN   \n",
       "25%                                                   NaN   \n",
       "50%                                                   NaN   \n",
       "75%                                                   NaN   \n",
       "max                                                   NaN   \n",
       "\n",
       "        num_user_for_reviews language country content_rating        budget  \\\n",
       "count            4730.000000     4722    4730           4618  4.421000e+03   \n",
       "unique                   NaN       39      57             15           NaN   \n",
       "top                      NaN  English     USA              R           NaN   \n",
       "freq                     NaN     4444    3606           2102           NaN   \n",
       "mean              287.216913      NaN     NaN            NaN  4.076216e+07   \n",
       "std               384.402480      NaN     NaN            NaN  2.090214e+08   \n",
       "min                 1.000000      NaN     NaN            NaN  2.180000e+02   \n",
       "25%                76.000000      NaN     NaN            NaN  7.000000e+06   \n",
       "50%               169.000000      NaN     NaN            NaN  2.000000e+07   \n",
       "75%               342.750000      NaN     NaN            NaN  4.500000e+07   \n",
       "max              5060.000000      NaN     NaN            NaN  1.221550e+10   \n",
       "\n",
       "         title_year   imdb_score  aspect_ratio  director_freq  \n",
       "count   4730.000000  4730.000000   4575.000000    4730.000000  \n",
       "unique          NaN          NaN           NaN            NaN  \n",
       "top             NaN          NaN           NaN            NaN  \n",
       "freq            NaN          NaN           NaN            NaN  \n",
       "mean    2002.104651     6.434123      2.115497       4.429175  \n",
       "std       12.511844     1.097783      0.646110       4.257288  \n",
       "min     1916.000000     1.600000      1.180000       1.000000  \n",
       "25%     1999.000000     5.800000      1.850000       1.000000  \n",
       "50%     2005.000000     6.600000      2.350000       3.000000  \n",
       "75%     2010.000000     7.200000      2.350000       6.000000  \n",
       "max     2016.000000     9.300000     16.000000      26.000000  "
      ]
     },
     "execution_count": 10,
     "metadata": {},
     "output_type": "execute_result"
    }
   ],
   "source": [
    "info = df.describe(include='all')\n",
    "info"
   ]
  },
  {
   "cell_type": "code",
   "execution_count": 11,
   "id": "14c4bef8",
   "metadata": {
    "execution": {
     "iopub.execute_input": "2025-01-27T17:00:08.314548Z",
     "iopub.status.busy": "2025-01-27T17:00:08.314008Z",
     "iopub.status.idle": "2025-01-27T17:00:08.734699Z",
     "shell.execute_reply": "2025-01-27T17:00:08.732474Z"
    },
    "papermill": {
     "duration": 0.431215,
     "end_time": "2025-01-27T17:00:08.738047",
     "exception": false,
     "start_time": "2025-01-27T17:00:08.306832",
     "status": "completed"
    },
    "tags": []
   },
   "outputs": [
    {
     "data": {
      "image/png": "[encoded data removed]",
      "text/plain": [
       "<Figure size 1000x600 with 1 Axes>"
      ]
     },
     "metadata": {},
     "output_type": "display_data"
    }
   ],
   "source": [
    "director_counts = df['director_freq'].value_counts()\n",
    "\n",
    "plt.figure(figsize=(10, 6))\n",
    "plt.bar(director_counts.index, director_counts.values, color='royalblue')\n",
    "plt.ylabel(\"Количество фильмов\", fontsize=12)\n",
    "plt.xlabel(\"Режиссеры\", fontsize=12)\n",
    "plt.title(\"Распределение встречаемости режиссеров\", fontsize=14)\n",
    "\n",
    "plt.xticks(rotation=90)\n",
    "plt.show()"
   ]
  },
  {
   "cell_type": "markdown",
   "id": "2d4c028b",
   "metadata": {
    "papermill": {
     "duration": 0.006836,
     "end_time": "2025-01-27T17:00:08.757586",
     "exception": false,
     "start_time": "2025-01-27T17:00:08.750750",
     "status": "completed"
    },
    "tags": []
   },
   "source": [
    "* Экспоненциальное распределение(убрал хвост)"
   ]
  },
  {
   "cell_type": "code",
   "execution_count": 12,
   "id": "9a7b4cb9",
   "metadata": {
    "execution": {
     "iopub.execute_input": "2025-01-27T17:00:08.775103Z",
     "iopub.status.busy": "2025-01-27T17:00:08.774476Z",
     "iopub.status.idle": "2025-01-27T17:00:08.782804Z",
     "shell.execute_reply": "2025-01-27T17:00:08.781721Z"
    },
    "papermill": {
     "duration": 0.018416,
     "end_time": "2025-01-27T17:00:08.784875",
     "exception": false,
     "start_time": "2025-01-27T17:00:08.766459",
     "status": "completed"
    },
    "tags": []
   },
   "outputs": [],
   "source": [
    "df['director_freq'] = np.log(df['director_freq'])"
   ]
  },
  {
   "cell_type": "code",
   "execution_count": 13,
   "id": "fa1af261",
   "metadata": {
    "execution": {
     "iopub.execute_input": "2025-01-27T17:00:08.800425Z",
     "iopub.status.busy": "2025-01-27T17:00:08.800057Z",
     "iopub.status.idle": "2025-01-27T17:00:09.074649Z",
     "shell.execute_reply": "2025-01-27T17:00:09.072938Z"
    },
    "papermill": {
     "duration": 0.284577,
     "end_time": "2025-01-27T17:00:09.076731",
     "exception": false,
     "start_time": "2025-01-27T17:00:08.792154",
     "status": "completed"
    },
    "tags": []
   },
   "outputs": [
    {
     "data": {
      "image/png": "[encoded data removed]",
      "text/plain": [
       "<Figure size 1000x600 with 1 Axes>"
      ]
     },
     "metadata": {},
     "output_type": "display_data"
    }
   ],
   "source": [
    "director_counts = df['director_freq'].value_counts()\n",
    "\n",
    "plt.figure(figsize=(10, 6))\n",
    "plt.bar(director_counts.index, director_counts.values, color='royalblue')\n",
    "plt.ylabel(\"Количество фильмов\", fontsize=12)\n",
    "plt.xlabel(\"Режиссеры\", fontsize=12)\n",
    "plt.title(\"Распределение встречаемости режиссеров\", fontsize=14)\n",
    "\n",
    "plt.xticks(rotation=90)\n",
    "plt.show()"
   ]
  },
  {
   "cell_type": "code",
   "execution_count": 14,
   "id": "ef2f3936",
   "metadata": {
    "execution": {
     "iopub.execute_input": "2025-01-27T17:00:09.095047Z",
     "iopub.status.busy": "2025-01-27T17:00:09.094612Z",
     "iopub.status.idle": "2025-01-27T17:00:09.423714Z",
     "shell.execute_reply": "2025-01-27T17:00:09.421887Z"
    },
    "papermill": {
     "duration": 0.34106,
     "end_time": "2025-01-27T17:00:09.426077",
     "exception": false,
     "start_time": "2025-01-27T17:00:09.085017",
     "status": "completed"
    },
    "tags": []
   },
   "outputs": [
    {
     "data": {
      "image/png": "[encoded data removed]",
      "text/plain": [
       "<Figure size 800x600 with 1 Axes>"
      ]
     },
     "metadata": {},
     "output_type": "display_data"
    }
   ],
   "source": [
    "plt.figure(figsize=(8, 6))\n",
    "df['num_critic_for_reviews'].plot(kind='hist', bins=10, color='skyblue', edgecolor='black', rwidth=0.8)\n",
    "\n",
    "plt.title('Распределение количества критиков', fontsize=14)\n",
    "plt.xlabel('Число критиков', fontsize=12)\n",
    "plt.ylabel('Частота', fontsize=12)\n",
    "plt.grid(True)\n",
    "plt.show()"
   ]
  }
 ],
 "metadata": {
  "kaggle": {
   "accelerator": "none",
   "dataSources": [
    {
     "datasetId": 7181,
     "sourceId": 10279,
     "sourceType": "datasetVersion"
    }
   ],
   "dockerImageVersionId": 30839,
   "isGpuEnabled": false,
   "isInternetEnabled": false,
   "language": "python",
   "sourceType": "notebook"
  },
  "kernelspec": {
   "display_name": "Python 3",
   "language": "python",
   "name": "python3"
  },
  "language_info": {
   "codemirror_mode": {
    "name": "ipython",
    "version": 3
   },
   "file_extension": ".py",
   "mimetype": "text/x-python",
   "name": "python",
   "nbconvert_exporter": "python",
   "pygments_lexer": "ipython3",
   "version": "3.10.12"
  },
  "papermill": {
   "default_parameters": {},
   "duration": 10.050365,
   "end_time": "2025-01-27T17:00:10.258570",
   "environment_variables": {},
   "exception": null,
   "input_path": "__notebook__.ipynb",
   "output_path": "__notebook__.ipynb",
   "parameters": {},
   "start_time": "2025-01-27T17:00:00.208205",
   "version": "2.6.0"
  }
 },
 "nbformat": 4,
 "nbformat_minor": 5
}
